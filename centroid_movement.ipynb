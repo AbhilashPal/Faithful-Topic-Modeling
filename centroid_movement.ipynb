{
 "cells": [
  {
   "cell_type": "code",
   "execution_count": 1,
   "metadata": {},
   "outputs": [
    {
     "name": "stderr",
     "output_type": "stream",
     "text": [
      "/home/abpal/miniconda3/envs/bertopic_env/lib/python3.11/site-packages/tqdm/auto.py:21: TqdmWarning: IProgress not found. Please update jupyter and ipywidgets. See https://ipywidgets.readthedocs.io/en/stable/user_install.html\n",
      "  from .autonotebook import tqdm as notebook_tqdm\n"
     ]
    }
   ],
   "source": [
    "import pandas as pd\n",
    "from bertopic import BERTopic\n",
    "from bertopic.representation import PartOfSpeech,MaximalMarginalRelevance,KeyBERTInspired\n",
    "from sentence_transformers import SentenceTransformer\n",
    "import joblib\n",
    "from typing import List, Dict\n",
    "from sentence_transformers import SentenceTransformer, util\n",
    "import numpy as np\n",
    "import torch\n",
    "import json\n",
    "import scipy\n",
    "from src.utils import clean_dataset,list_to_dict,convert_ctfidf,NpEncoder\n",
    "\n",
    "model = SentenceTransformer('all-MiniLM-L6-v2')"
   ]
  },
  {
   "cell_type": "code",
   "execution_count": 2,
   "metadata": {},
   "outputs": [
    {
     "name": "stdout",
     "output_type": "stream",
     "text": [
      "Hello this is an example text with an email address Please remove punctuation and escape sequences including\n"
     ]
    },
    {
     "name": "stderr",
     "output_type": "stream",
     "text": [
      "100%|██████████| 11314/11314 [00:01<00:00, 11212.87it/s]\n"
     ]
    }
   ],
   "source": [
    "from sklearn.datasets import fetch_20newsgroups\n",
    "newsgroups_train = fetch_20newsgroups(subset='all')\n",
    "\n",
    "import re\n",
    "\n",
    "def load_model(model:int) :\n",
    "    \"\"\"Load the corresponding model based on the model number\n",
    "\n",
    "    Args:\n",
    "        model (int): ranging from 1 - 4 \n",
    "    \"\"\"\n",
    "    if model == 1 :\n",
    "        return BERTopic()\n",
    "    elif model == 2 :\n",
    "        representation_model = KeyBERTInspired()\n",
    "        return BERTopic(representation_model=representation_model)\n",
    "    elif model == 3 :\n",
    "        representation_model = PartOfSpeech(\"en_core_web_sm\")\n",
    "        return BERTopic(representation_model=representation_model)\n",
    "    else : \n",
    "        representation_model = MaximalMarginalRelevance(diversity=0.3)\n",
    "        return BERTopic(representation_model=representation_model)\n",
    "\n",
    "def clean_text(text):\n",
    "    # Remove escape sequences\n",
    "    text = re.sub(r'\\\\[a-zA-Z]', ' ', text)\n",
    "\n",
    "    # Remove email addresses\n",
    "    text = re.sub(r'\\S+@\\S+', ' ', text)\n",
    "\n",
    "    # Remove punctuation\n",
    "    text = re.sub(r'[^\\w\\s]', ' ', text)\n",
    "\n",
    "    # Remove extra whitespace\n",
    "    text = ' '.join(text.split())\n",
    "\n",
    "    return text\n",
    "\n",
    "# Example usage:\n",
    "text = \"Hello, this is an example text with an email address john@example.com. \\nPlease remove punctuation and escape sequences, including \\\\n.\"\n",
    "cleaned_text = clean_text(text)\n",
    "print(cleaned_text)\n",
    "\n",
    "\n",
    "from tqdm import tqdm\n",
    "\n",
    "docs = []\n",
    "for text in tqdm(newsgroups_train[\"data\"]):\n",
    "  docs.append(clean_text(text))"
   ]
  },
  {
   "cell_type": "code",
   "execution_count": 3,
   "metadata": {},
   "outputs": [
    {
     "name": "stderr",
     "output_type": "stream",
     "text": [
      "100%|██████████| 11314/11314 [00:01<00:00, 11208.11it/s]\n"
     ]
    },
    {
     "data": {
      "text/html": [
       "<div>\n",
       "<style scoped>\n",
       "    .dataframe tbody tr th:only-of-type {\n",
       "        vertical-align: middle;\n",
       "    }\n",
       "\n",
       "    .dataframe tbody tr th {\n",
       "        vertical-align: top;\n",
       "    }\n",
       "\n",
       "    .dataframe thead th {\n",
       "        text-align: right;\n",
       "    }\n",
       "</style>\n",
       "<table border=\"1\" class=\"dataframe\">\n",
       "  <thead>\n",
       "    <tr style=\"text-align: right;\">\n",
       "      <th></th>\n",
       "      <th>Topic</th>\n",
       "      <th>Count</th>\n",
       "      <th>Name</th>\n",
       "      <th>Representation</th>\n",
       "      <th>Representative_Docs</th>\n",
       "    </tr>\n",
       "  </thead>\n",
       "  <tbody>\n",
       "    <tr>\n",
       "      <th>0</th>\n",
       "      <td>-1</td>\n",
       "      <td>3780</td>\n",
       "      <td>-1_the_to_of_for</td>\n",
       "      <td>[the, to, of, for, and, in, is, you, from, it]</td>\n",
       "      <td>[From Bob Sarver Subject Re Question for those...</td>\n",
       "    </tr>\n",
       "    <tr>\n",
       "      <th>1</th>\n",
       "      <td>0</td>\n",
       "      <td>504</td>\n",
       "      <td>0_he_year_baseball_team</td>\n",
       "      <td>[he, year, baseball, team, game, runs, braves,...</td>\n",
       "      <td>[Subject Re Eck vs Rickey was Re Rickey s whin...</td>\n",
       "    </tr>\n",
       "    <tr>\n",
       "      <th>2</th>\n",
       "      <td>1</td>\n",
       "      <td>318</td>\n",
       "      <td>1_clipper_encryption_key_chip</td>\n",
       "      <td>[clipper, encryption, key, chip, escrow, keys,...</td>\n",
       "      <td>[From Clipper Chip Announcement Subject text o...</td>\n",
       "    </tr>\n",
       "    <tr>\n",
       "      <th>3</th>\n",
       "      <td>2</td>\n",
       "      <td>209</td>\n",
       "      <td>2_tobacco_health_mail_address</td>\n",
       "      <td>[tobacco, health, mail, address, smokeless, co...</td>\n",
       "      <td>[Subject Space FAQ 02 15 Network Resources Fro...</td>\n",
       "    </tr>\n",
       "    <tr>\n",
       "      <th>4</th>\n",
       "      <td>3</td>\n",
       "      <td>192</td>\n",
       "      <td>3_fbi_batf_fire_compound</td>\n",
       "      <td>[fbi, batf, fire, compound, atf, koresh, waco,...</td>\n",
       "      <td>[From Jim De Arras Subject Re BATF FBI Murders...</td>\n",
       "    </tr>\n",
       "    <tr>\n",
       "      <th>...</th>\n",
       "      <td>...</td>\n",
       "      <td>...</td>\n",
       "      <td>...</td>\n",
       "      <td>...</td>\n",
       "      <td>...</td>\n",
       "    </tr>\n",
       "    <tr>\n",
       "      <th>221</th>\n",
       "      <td>220</td>\n",
       "      <td>10</td>\n",
       "      <td>220_depression_islamic_marriage_rice</td>\n",
       "      <td>[depression, islamic, marriage, rice, sex, fre...</td>\n",
       "      <td>[From Fred Rice Subject Re Ancient islamic rit...</td>\n",
       "    </tr>\n",
       "    <tr>\n",
       "      <th>222</th>\n",
       "      <td>221</td>\n",
       "      <td>10</td>\n",
       "      <td>221_icons_program_esc_swetsky</td>\n",
       "      <td>[icons, program, esc, swetsky, manager, cica, ...</td>\n",
       "      <td>[From Paul Blackman Subject Re moving icons Ar...</td>\n",
       "    </tr>\n",
       "    <tr>\n",
       "      <th>223</th>\n",
       "      <td>222</td>\n",
       "      <td>10</td>\n",
       "      <td>222_video_card_s3_seetharam</td>\n",
       "      <td>[video, card, s3, seetharam, srini, watchit, b...</td>\n",
       "      <td>[From Glenn T Jayaputera Subject Need Info on ...</td>\n",
       "    </tr>\n",
       "    <tr>\n",
       "      <th>224</th>\n",
       "      <td>223</td>\n",
       "      <td>10</td>\n",
       "      <td>223_callison_scum_warning_senegal</td>\n",
       "      <td>[callison, scum, warning, senegal, macintyre, ...</td>\n",
       "      <td>[From Joe Karolchik Subject Re WARNING please ...</td>\n",
       "    </tr>\n",
       "    <tr>\n",
       "      <th>225</th>\n",
       "      <td>224</td>\n",
       "      <td>10</td>\n",
       "      <td>224_god_serbs_moslems_muslims</td>\n",
       "      <td>[god, serbs, moslems, muslims, serbian, cleans...</td>\n",
       "      <td>[From D Andrew Kille Subject Re Serbian genoci...</td>\n",
       "    </tr>\n",
       "  </tbody>\n",
       "</table>\n",
       "<p>226 rows × 5 columns</p>\n",
       "</div>"
      ],
      "text/plain": [
       "     Topic  Count                                  Name  \\\n",
       "0       -1   3780                      -1_the_to_of_for   \n",
       "1        0    504               0_he_year_baseball_team   \n",
       "2        1    318         1_clipper_encryption_key_chip   \n",
       "3        2    209         2_tobacco_health_mail_address   \n",
       "4        3    192              3_fbi_batf_fire_compound   \n",
       "..     ...    ...                                   ...   \n",
       "221    220     10  220_depression_islamic_marriage_rice   \n",
       "222    221     10         221_icons_program_esc_swetsky   \n",
       "223    222     10           222_video_card_s3_seetharam   \n",
       "224    223     10     223_callison_scum_warning_senegal   \n",
       "225    224     10         224_god_serbs_moslems_muslims   \n",
       "\n",
       "                                        Representation  \\\n",
       "0       [the, to, of, for, and, in, is, you, from, it]   \n",
       "1    [he, year, baseball, team, game, runs, braves,...   \n",
       "2    [clipper, encryption, key, chip, escrow, keys,...   \n",
       "3    [tobacco, health, mail, address, smokeless, co...   \n",
       "4    [fbi, batf, fire, compound, atf, koresh, waco,...   \n",
       "..                                                 ...   \n",
       "221  [depression, islamic, marriage, rice, sex, fre...   \n",
       "222  [icons, program, esc, swetsky, manager, cica, ...   \n",
       "223  [video, card, s3, seetharam, srini, watchit, b...   \n",
       "224  [callison, scum, warning, senegal, macintyre, ...   \n",
       "225  [god, serbs, moslems, muslims, serbian, cleans...   \n",
       "\n",
       "                                   Representative_Docs  \n",
       "0    [From Bob Sarver Subject Re Question for those...  \n",
       "1    [Subject Re Eck vs Rickey was Re Rickey s whin...  \n",
       "2    [From Clipper Chip Announcement Subject text o...  \n",
       "3    [Subject Space FAQ 02 15 Network Resources Fro...  \n",
       "4    [From Jim De Arras Subject Re BATF FBI Murders...  \n",
       "..                                                 ...  \n",
       "221  [From Fred Rice Subject Re Ancient islamic rit...  \n",
       "222  [From Paul Blackman Subject Re moving icons Ar...  \n",
       "223  [From Glenn T Jayaputera Subject Need Info on ...  \n",
       "224  [From Joe Karolchik Subject Re WARNING please ...  \n",
       "225  [From D Andrew Kille Subject Re Serbian genoci...  \n",
       "\n",
       "[226 rows x 5 columns]"
      ]
     },
     "execution_count": 3,
     "metadata": {},
     "output_type": "execute_result"
    }
   ],
   "source": [
    "docs = []\n",
    "count = 0\n",
    "for text in tqdm(newsgroups_train[\"data\"]):\n",
    "  count+=1\n",
    "  docs.append(clean_text(text) + f\" c_{count}\")\n",
    "\n",
    "topic_model = BERTopic()\n",
    "topics, probs = topic_model.fit_transform(docs)\n",
    "topic_model.get_topic_info()\n",
    "\n"
   ]
  },
  {
   "cell_type": "code",
   "execution_count": 4,
   "metadata": {},
   "outputs": [],
   "source": [
    "def centroid_ablation(word:str,document:str) -> float:\n",
    "    \"\"\"Take word out from document and see how much document embedding moves. \n",
    "\n",
    "    Args:\n",
    "        word (str): the input word\n",
    "        document (str): the input document \n",
    "\n",
    "    Returns:\n",
    "        float: the movement of the document embedding. \n",
    "    \"\"\"\n",
    "    document_embed = model.encode(document, convert_to_tensor=True)\n",
    "    document_without_word = document.replace(word, \"\")\n",
    "    document_without_word_embed = model.encode(document_without_word, convert_to_tensor=True)\n",
    "    return float(torch.linalg.norm(document_embed-document_without_word_embed))\n",
    "    \n",
    "# centroid_ablation(\"The\",\"The bird is on the tree. The cat is eating the bird.\")\n",
    "\n",
    "\n",
    "def get_spearman_rho(ctf_idf_json_topic1, ctf_idf_json_topic2):\n",
    "    # print(ctf_idf_json_topic1, ctf_idf_json_topic2)\n",
    "    words1 = list(ctf_idf_json_topic1.keys())\n",
    "    ctf_idf_rankings1 = [ctf_idf_json_topic1[word] for word in words1]\n",
    "    # print(f'Numbers for key {i}: {numbers_for_key}')\n",
    "    x = ctf_idf_rankings1\n",
    "\n",
    "    ctf_idf_rankings2 = [ctf_idf_json_topic2[word] for word in words1]\n",
    "    # print(f'Numbers for key {i}: {numbers_for_key}')\n",
    "    y = ctf_idf_rankings2\n",
    "    rho, p_value = scipy.stats.spearmanr(x, y)\n",
    "    return rho, p_value"
   ]
  },
  {
   "cell_type": "code",
   "execution_count": 5,
   "metadata": {},
   "outputs": [
    {
     "name": "stderr",
     "output_type": "stream",
     "text": [
      "100%|██████████| 2/2 [01:27<00:00, 43.95s/it]\n"
     ]
    },
    {
     "data": {
      "text/plain": [
       "{0: (0.8424242424242423, 0.0022200312259168407),\n",
       " 1: (0.8424242424242423, 0.0022200312259168407)}"
      ]
     },
     "execution_count": 5,
     "metadata": {},
     "output_type": "execute_result"
    }
   ],
   "source": [
    "def raw_centroid_checks( docs: List[str], k: int, model: int) -> pd.DataFrame:\n",
    "    \"\"\"\n",
    "    Take as input a list of documents, a speicific number of topics to run the check for,\n",
    "    and the model. \n",
    "    1. Run a basic bertopic model to fit_transform the dataset.\n",
    "    2. For each topic in 1 to k :\n",
    "        2.1 Remove each repn word. \n",
    "        2.2 Check how much on avg the document embeddings change. \n",
    "    \"\"\"\n",
    "    final_ablation_mappings = {}\n",
    "    anchor_topic_model = load_model(model)\n",
    "    topics, probs = anchor_topic_model.fit_transform(docs)\n",
    "    topic_list = anchor_topic_model.get_topic_info()\n",
    "    c_tf_idf_mappings = anchor_topic_model.topic_representations_\n",
    "    c_tf_idf_mappings = convert_ctfidf(c_tf_idf_mappings)\n",
    "\n",
    "    documents = anchor_topic_model.get_topic_info()[\"Representative_Docs\"]\n",
    "\n",
    "    df_basic_mapping = pd.DataFrame({\"Document\": docs, \"Topic\": topics})\n",
    "\n",
    "    for topic_i in tqdm(range(k)):\n",
    "        topic_documents = df_basic_mapping[df_basic_mapping['Topic'] == topic_i][\"Document\"]\n",
    "        ablation_mappings = {}\n",
    "        for word in c_tf_idf_mappings[topic_i].keys():\n",
    "            centroid_movement = []\n",
    "            for document in topic_documents :\n",
    "                centroid_movement.append(centroid_ablation(word,document))\n",
    "            ablation_mappings[word] = np.mean(centroid_movement)\n",
    "        final_ablation_mappings[topic_i] = get_spearman_rho(c_tf_idf_mappings[topic_i],ablation_mappings)\n",
    "    return final_ablation_mappings\n",
    "\n",
    "raw_centroid_checks(docs,2,1)"
   ]
  },
  {
   "cell_type": "code",
   "execution_count": 9,
   "metadata": {},
   "outputs": [],
   "source": [
    "def run_centroid_ablation( docs: List[str], k: int, model: int, repeats: int, save_path: str)->None:\n",
    "    \"\"\"_summary_\n",
    "\n",
    "    Args:\n",
    "        docs (List[str]): _description_\n",
    "        k (int): _description_\n",
    "        model (int): _description_\n",
    "        repeats (int): _description_\n",
    "        save_path (str): _description_\n",
    "    \"\"\"\n",
    "\n",
    "    to_save = {}\n",
    "    for _ in range(repeats) : \n",
    "        to_save[_] = raw_centroid_checks(docs,k,model)\n",
    "    \n",
    "    with open(save_path, 'w') as json_file:\n",
    "        json.dump(to_save, json_file)"
   ]
  },
  {
   "cell_type": "code",
   "execution_count": 10,
   "metadata": {},
   "outputs": [
    {
     "name": "stderr",
     "output_type": "stream",
     "text": [
      "100%|██████████| 100/100 [09:28<00:00,  5.68s/it]\n"
     ]
    }
   ],
   "source": [
    "run_centroid_ablation(docs = docs , k = 100, model = 1, repeats = 1, save_path= \"final_result/centroid/centroid_1.json\")"
   ]
  },
  {
   "cell_type": "code",
   "execution_count": 11,
   "metadata": {},
   "outputs": [
    {
     "name": "stderr",
     "output_type": "stream",
     "text": [
      " 96%|█████████▌| 96/100 [09:49<00:11,  2.80s/it] /home/abpal/miniconda3/envs/bertopic_env/lib/python3.11/site-packages/scipy/stats/_stats_py.py:5445: ConstantInputWarning: An input array is constant; the correlation coefficient is not defined.\n",
      "  warnings.warn(stats.ConstantInputWarning(warn_msg))\n",
      "100%|██████████| 100/100 [10:00<00:00,  6.01s/it]\n"
     ]
    }
   ],
   "source": [
    "run_centroid_ablation(docs = docs , k = 100, model = 2, repeats = 1, save_path= \"final_result/centroid/centroid_2.json\")"
   ]
  },
  {
   "cell_type": "code",
   "execution_count": 12,
   "metadata": {},
   "outputs": [
    {
     "name": "stderr",
     "output_type": "stream",
     "text": [
      "100%|██████████| 100/100 [10:04<00:00,  6.04s/it]\n"
     ]
    }
   ],
   "source": [
    "run_centroid_ablation(docs = docs , k = 100, model = 3, repeats = 1, save_path= \"final_result/centroid/centroid_3.json\")"
   ]
  },
  {
   "cell_type": "code",
   "execution_count": 13,
   "metadata": {},
   "outputs": [
    {
     "name": "stderr",
     "output_type": "stream",
     "text": [
      "100%|██████████| 100/100 [10:13<00:00,  6.14s/it]\n"
     ]
    }
   ],
   "source": [
    "run_centroid_ablation(docs = docs , k = 100, model = 4, repeats = 1, save_path= \"final_result/centroid/centroid_4.json\")"
   ]
  },
  {
   "cell_type": "code",
   "execution_count": 1,
   "metadata": {},
   "outputs": [],
   "source": [
    "import json\n",
    "import matplotlib.pyplot as plt\n",
    "import numpy as np\n",
    "\n",
    "def read_json_and_plot(filename):\n",
    "    # Read JSON file\n",
    "    with open(filename, 'r') as file:\n",
    "        data = json.load(file)\n",
    "    \n",
    "    # Extract x and y values\n",
    "    x_values = []\n",
    "    y_values = []\n",
    "    for key in data:\n",
    "        # Iterate through inner dictionary\n",
    "        inner_dict = data[key]\n",
    "        for inner_key in inner_dict:\n",
    "            x_values.append(inner_dict[inner_key][0])  # First number in each item\n",
    "            y_values.append(inner_dict[inner_key][1])  # Second number in each item\n",
    "\n",
    "    # Plot\n",
    "    plt.figure(figsize=(8, 6))\n",
    "    plt.plot(x_values, y_values, 'bo', label='Data Points')\n",
    "    plt.title('Normal Plot')\n",
    "    plt.xlabel('X values')\n",
    "    plt.ylabel('Y values')\n",
    "    plt.grid(True)\n",
    "    plt.legend()\n",
    "\n",
    "    # Calculate mean and standard deviation\n",
    "    x_mean = np.mean(x_values)\n",
    "    y_mean = np.mean(y_values)\n",
    "    x_std = np.std(x_values)\n",
    "    y_std = np.std(y_values)\n",
    "    print(f\"Mean of X values: {x_mean}\")\n",
    "    print(f\"Mean of Y values: {y_mean}\")\n",
    "    print(f\"Standard deviation of X values: {x_std}\")\n",
    "    print(f\"Standard deviation of Y values: {y_std}\")\n",
    "\n",
    "    plt.show()\n",
    "\n",
    "# Usage\n",
    "# read_json_and_plot('your_json_file.json')\n"
   ]
  },
  {
   "cell_type": "code",
   "execution_count": 5,
   "metadata": {},
   "outputs": [
    {
     "name": "stdout",
     "output_type": "stream",
     "text": [
      "Mean of X values: 0.3276565393712657\n",
      "Mean of Y values: 0.3352166303842618\n",
      "Standard deviation of X values: 0.3340139118689276\n",
      "Standard deviation of Y values: 0.2897470976645502\n"
     ]
    },
    {
     "data": {
      "image/png": "[encoded data removed]",
      "text/plain": [
       "<Figure size 800x600 with 1 Axes>"
      ]
     },
     "metadata": {},
     "output_type": "display_data"
    }
   ],
   "source": [
    "read_json_and_plot(\"final_result/centroid/centroid_4.json\")"
   ]
  },
  {
   "cell_type": "code",
   "execution_count": null,
   "metadata": {},
   "outputs": [],
   "source": []
  }
 ],
 "metadata": {
  "kernelspec": {
   "display_name": "bertopic_env",
   "language": "python",
   "name": "python3"
  },
  "language_info": {
   "codemirror_mode": {
    "name": "ipython",
    "version": 3
   },
   "file_extension": ".py",
   "mimetype": "text/x-python",
   "name": "python",
   "nbconvert_exporter": "python",
   "pygments_lexer": "ipython3",
   "version": "3.11.6"
  }
 },
 "nbformat": 4,
 "nbformat_minor": 2
}
