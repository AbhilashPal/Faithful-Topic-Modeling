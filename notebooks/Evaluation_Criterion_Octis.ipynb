{
  "nbformat": 4,
  "nbformat_minor": 0,
  "metadata": {
    "colab": {
      "provenance": []
    },
    "kernelspec": {
      "name": "python3",
      "display_name": "Python 3"
    },
    "language_info": {
      "name": "python"
    }
  },
  "cells": [
    {
      "cell_type": "markdown",
      "source": [
        "# Setting Up Evaluation Criterions :\n",
        "-"
      ],
      "metadata": {
        "id": "AVKGFfQl13rx"
      }
    },
    {
      "cell_type": "code",
      "execution_count": null,
      "metadata": {
        "id": "Wkq1vvPM1Wrl",
        "colab": {
          "base_uri": "https://localhost:8080/"
        },
        "outputId": "59c2e8fd-5ece-44f9-bec7-5acf49b2856b"
      },
      "outputs": [
        {
          "output_type": "stream",
          "name": "stdout",
          "text": [
            "\u001b[2K     \u001b[90m━━━━━━━━━━━━━━━━━━━━━━━━━━━━━━━━━━━━━━━\u001b[0m \u001b[32m131.0/131.0 kB\u001b[0m \u001b[31m2.2 MB/s\u001b[0m eta \u001b[36m0:00:00\u001b[0m\n",
            "\u001b[2K     \u001b[90m━━━━━━━━━━━━━━━━━━━━━━━━━━━━━━━━━━━━━━━━\u001b[0m \u001b[32m24.0/24.0 MB\u001b[0m \u001b[31m56.7 MB/s\u001b[0m eta \u001b[36m0:00:00\u001b[0m\n",
            "\u001b[2K     \u001b[90m━━━━━━━━━━━━━━━━━━━━━━━━━━━━━━━━━━━━━━━━\u001b[0m \u001b[32m30.7/30.7 MB\u001b[0m \u001b[31m51.4 MB/s\u001b[0m eta \u001b[36m0:00:00\u001b[0m\n",
            "\u001b[2K     \u001b[90m━━━━━━━━━━━━━━━━━━━━━━━━━━━━━━━━━━━━━━━\u001b[0m \u001b[32m100.3/100.3 kB\u001b[0m \u001b[31m5.6 MB/s\u001b[0m eta \u001b[36m0:00:00\u001b[0m\n",
            "\u001b[2K     \u001b[90m━━━━━━━━━━━━━━━━━━━━━━━━━━━━━━━━━━━━━━━━\u001b[0m \u001b[32m17.0/17.0 MB\u001b[0m \u001b[31m30.7 MB/s\u001b[0m eta \u001b[36m0:00:00\u001b[0m\n",
            "\u001b[2K     \u001b[90m━━━━━━━━━━━━━━━━━━━━━━━━━━━━━━━━━━━━━━\u001b[0m \u001b[32m170.6/170.6 kB\u001b[0m \u001b[31m17.0 MB/s\u001b[0m eta \u001b[36m0:00:00\u001b[0m\n",
            "\u001b[?25h  Preparing metadata (setup.py) ... \u001b[?25l\u001b[?25hdone\n",
            "\u001b[2K     \u001b[90m━━━━━━━━━━━━━━━━━━━━━━━━━━━━━━━━━━━━━━━━\u001b[0m \u001b[32m86.0/86.0 kB\u001b[0m \u001b[31m9.5 MB/s\u001b[0m eta \u001b[36m0:00:00\u001b[0m\n",
            "\u001b[?25h  Preparing metadata (setup.py) ... \u001b[?25l\u001b[?25hdone\n",
            "\u001b[2K     \u001b[90m━━━━━━━━━━━━━━━━━━━━━━━━━━━━━━━━━━━━━━━━\u001b[0m \u001b[32m17.1/17.1 MB\u001b[0m \u001b[31m17.9 MB/s\u001b[0m eta \u001b[36m0:00:00\u001b[0m\n",
            "\u001b[2K     \u001b[90m━━━━━━━━━━━━━━━━━━━━━━━━━━━━━━━━━━━━━━━━\u001b[0m \u001b[32m7.7/7.7 MB\u001b[0m \u001b[31m102.9 MB/s\u001b[0m eta \u001b[36m0:00:00\u001b[0m\n",
            "\u001b[2K     \u001b[90m━━━━━━━━━━━━━━━━━━━━━━━━━━━━━━━━━━━━━━━━\u001b[0m \u001b[32m1.3/1.3 MB\u001b[0m \u001b[31m65.0 MB/s\u001b[0m eta \u001b[36m0:00:00\u001b[0m\n",
            "\u001b[2K     \u001b[90m━━━━━━━━━━━━━━━━━━━━━━━━━━━━━━━━━━━━━━\u001b[0m \u001b[32m295.0/295.0 kB\u001b[0m \u001b[31m21.9 MB/s\u001b[0m eta \u001b[36m0:00:00\u001b[0m\n",
            "\u001b[2K     \u001b[90m━━━━━━━━━━━━━━━━━━━━━━━━━━━━━━━━━━━━━━━━\u001b[0m \u001b[32m3.8/3.8 MB\u001b[0m \u001b[31m64.5 MB/s\u001b[0m eta \u001b[36m0:00:00\u001b[0m\n",
            "\u001b[2K     \u001b[90m━━━━━━━━━━━━━━━━━━━━━━━━━━━━━━━━━━━━━━━━\u001b[0m \u001b[32m1.3/1.3 MB\u001b[0m \u001b[31m55.3 MB/s\u001b[0m eta \u001b[36m0:00:00\u001b[0m\n",
            "\u001b[2K     \u001b[90m━━━━━━━━━━━━━━━━━━━━━━━━━━━━━━━━━━━━━━\u001b[0m \u001b[32m268.8/268.8 kB\u001b[0m \u001b[31m24.3 MB/s\u001b[0m eta \u001b[36m0:00:00\u001b[0m\n",
            "\u001b[?25h  Building wheel for libsvm (setup.py) ... \u001b[?25l\u001b[?25hdone\n",
            "  Building wheel for sentence-transformers (setup.py) ... \u001b[?25l\u001b[?25hdone\n"
          ]
        }
      ],
      "source": [
        "!pip install -q octis"
      ]
    },
    {
      "cell_type": "code",
      "source": [
        "from octis.models.LDA import LDA\n",
        "from octis.dataset.dataset import Dataset\n",
        "from octis.evaluation_metrics.diversity_metrics import TopicDiversity, InvertedRBO, WordEmbeddingsInvertedRBO, WordEmbeddingsInvertedRBOCentroid, LogOddsRatio, KLDivergence\n",
        "from octis.evaluation_metrics.coherence_metrics import Coherence, WECoherencePairwise, WECoherenceCentroid"
      ],
      "metadata": {
        "id": "EXnFiDnjT9dO"
      },
      "execution_count": null,
      "outputs": []
    },
    {
      "cell_type": "code",
      "source": [
        "# Define dataset\n",
        "dataset = Dataset()\n",
        "dataset.fetch_dataset(\"20NewsGroup\")"
      ],
      "metadata": {
        "id": "gyPu_4irT9yG"
      },
      "execution_count": null,
      "outputs": []
    },
    {
      "cell_type": "code",
      "source": [
        "dataset.save('hello_dataset')"
      ],
      "metadata": {
        "id": "EsRft62iRNgs"
      },
      "execution_count": null,
      "outputs": []
    },
    {
      "cell_type": "code",
      "source": [
        "!head /content/hello_dataset/corpus.tsv"
      ],
      "metadata": {
        "colab": {
          "base_uri": "https://localhost:8080/"
        },
        "id": "DnX7_rDHRkl0",
        "outputId": "f10589c0-caf7-4edd-d659-41c120db6862"
      },
      "execution_count": null,
      "outputs": [
        {
          "output_type": "stream",
          "name": "stdout",
          "text": [
            "fax modem card sell mail\ttrain\tmisc.forsale\n",
            "run server server install run add\ttrain\tcomp.windows.x\n",
            "live part lead wait important remember judge judge guess close situation listen statement sense regard passage remember letter church people body talk work translation lack concern make sick point throw faith faith catch meaning offer explanation fire cold make aware child eternal\ttrain\tsoc.religion.christian\n",
            "doesn pain deserve die lie rape\ttrain\ttalk.religion.misc\n",
            "sale mile good condition good condition player component speaker mount door car maintain clean good car solid body spot surface spot touch make car problem firm car average cost interested call email\ttrain\trec.autos\n",
            "post real disease disease question case active culture reduce hear work mechanism common minor common major evidence\ttrain\tsci.med\n",
            "execute future criminal activity compare rate black white commit crime black commit crime perfectly fair system black represent note black white crime rate thing economic thing poor people commit crime black poor reduce minority increase minority\ttrain\ttalk.politics.misc\n",
            "citizen identify religious tradition religious category argument make people subject simply faith separate feel argument accept valid reject reason convert turkish rule ago present generation clue actual fact feel draw national feel separate argument carry weight long feel separate national group end debate simply relevant case date muslim category time result sequence decision past decade recognize group resolution declare separate nation eventually muslim choice form comparison national category demonstrate feel minority feel choose result show category choose choose group choose muslim term rest world present context talk group separate national reason historical religion play small role part culture general area simply religious political religious group security people fine point fact religious\ttrain\ttalk.politics.mideast\n",
            "miss part thread switch line level speaker level audio line level single chip audio switch switch channel input channel output function speaker level mind\ttrain\tsci.electronics\n",
            "regularly schedule news reading bring message department statistic pass final individual player stat post day filter average game goal assist point penalty minute average pro play league season feel write real code odd list pass list time player small percentage difference category close game goal assist point leave average player pass list include top fly title kind\ttrain\trec.sport.hockey\n"
          ]
        }
      ]
    },
    {
      "cell_type": "code",
      "source": [],
      "metadata": {
        "id": "3cQeJuIvRpnM"
      },
      "execution_count": null,
      "outputs": []
    },
    {
      "cell_type": "code",
      "source": [
        "# Create Model\n",
        "model = LDA(num_topics=20, alpha=0.1)"
      ],
      "metadata": {
        "id": "85GNjG2kT_dM"
      },
      "execution_count": null,
      "outputs": []
    },
    {
      "cell_type": "code",
      "source": [
        "# Train the model using default partitioning choice\n",
        "output = model.train_model(dataset)\n",
        "\n",
        "print(*list(output.keys()), sep=\"\\n\") # Print the output identifiers"
      ],
      "metadata": {
        "colab": {
          "base_uri": "https://localhost:8080/"
        },
        "id": "jTfI1QjZUBvr",
        "outputId": "59f9cb36-4e75-4551-f164-6a3c6cdb01ac"
      },
      "execution_count": null,
      "outputs": [
        {
          "output_type": "stream",
          "name": "stderr",
          "text": [
            "WARNING:gensim.models.ldamodel:too few updates, training might not converge; consider increasing the number of passes or iterations to improve accuracy\n"
          ]
        },
        {
          "output_type": "stream",
          "name": "stdout",
          "text": [
            "topic-word-matrix\n",
            "topics\n",
            "topic-document-matrix\n",
            "test-topic-document-matrix\n"
          ]
        }
      ]
    },
    {
      "cell_type": "code",
      "source": [
        "for t in output['topics'][:5]:\n",
        "  print(\" \".join(t))"
      ],
      "metadata": {
        "colab": {
          "base_uri": "https://localhost:8080/"
        },
        "id": "vNjqbNx6UED7",
        "outputId": "57cc1744-4a55-44b5-e290-1d5de90f095d"
      },
      "execution_count": null,
      "outputs": [
        {
          "output_type": "stream",
          "name": "stdout",
          "text": [
            "water current internet problem class circuit make channel function case\n",
            "year doctor patient time study work disease system low effect\n",
            "image color program bit file format graphic datum software source\n",
            "drive problem scsi card disk work monitor bus hard system\n",
            "game team year play win season good goal player period\n"
          ]
        }
      ]
    },
    {
      "cell_type": "code",
      "source": [
        "# Initialize metric\n",
        "npmi = Coherence(texts=dataset.get_corpus(), topk=10, measure='c_npmi')"
      ],
      "metadata": {
        "id": "6JAB44FRUGCy"
      },
      "execution_count": null,
      "outputs": []
    },
    {
      "cell_type": "code",
      "source": [
        "# Initialize metric\n",
        "topic_diversity = TopicDiversity(topk=10)"
      ],
      "metadata": {
        "id": "FXoWfmmpUJQL"
      },
      "execution_count": null,
      "outputs": []
    },
    {
      "cell_type": "code",
      "source": [
        "# Retrieve metrics score\n",
        "topic_diversity_score = topic_diversity.score(output)\n",
        "print(\"Topic diversity: \"+str(topic_diversity_score))\n",
        "\n",
        "npmi_score = npmi.score(output)\n",
        "print(\"Coherence: \"+str(npmi_score))"
      ],
      "metadata": {
        "colab": {
          "base_uri": "https://localhost:8080/"
        },
        "id": "feqS_mOUUNIc",
        "outputId": "04a2c1b8-6884-40b9-f8a5-542b83b22555"
      },
      "execution_count": null,
      "outputs": [
        {
          "output_type": "stream",
          "name": "stdout",
          "text": [
            "Topic diversity: 0.705\n",
            "Coherence: 0.05326432178262006\n"
          ]
        }
      ]
    },
    {
      "cell_type": "code",
      "source": [
        "UMass_Coherence = Coherence(texts=dataset.get_corpus(), topk=10,measure='u_mass')\n",
        "C_V_Coherence = Coherence(texts=dataset.get_corpus(), topk=10,measure='c_v')\n",
        "UCI_Coherence = Coherence(texts=dataset.get_corpus(), topk=10,measure='c_uci')\n",
        "NPMI_Coherence = Coherence(texts=dataset.get_corpus(), topk=10,measure='c_npmi')\n",
        "Word_Embedding_based_Coherence_Pairwise = WECoherencePairwise(topk=10)\n",
        "Word_Embedding_based_Coherence_Centroid = WECoherenceCentroid(topk=10)"
      ],
      "metadata": {
        "id": "90tGswLgU36r"
      },
      "execution_count": null,
      "outputs": []
    },
    {
      "cell_type": "code",
      "source": [
        "print(\"Coherence Metrics :\")\n",
        "\n",
        "u_mass = UMass_Coherence.score(output)\n",
        "print(\"UMass_Coherence : \"+str(u_mass))\n",
        "\n",
        "c_v = C_V_Coherence.score(output)\n",
        "print(\"C_V_Coherence : \"+str(c_v))\n",
        "\n",
        "c_uci = UCI_Coherence.score(output)\n",
        "print(\"UCI_Coherence : \"+str(c_uci))\n",
        "\n",
        "c_npmi = NPMI_Coherence.score(output)\n",
        "print(\"NPMI_Coherence : \"+str(c_npmi))\n",
        "\n",
        "wemb_pairwise = Word_Embedding_based_Coherence_Pairwise.score(output)\n",
        "print(\"Word_Embedding_based_Coherence_Pairwise : \"+str(wemb_pairwise))\n",
        "\n",
        "wemb_centroid = Word_Embedding_based_Coherence_Centroid.score(output)\n",
        "print(\"Word_Embedding_based_Coherence_Centroid : \"+str(wemb_centroid))"
      ],
      "metadata": {
        "colab": {
          "base_uri": "https://localhost:8080/"
        },
        "id": "hzhnaQNYUNWT",
        "outputId": "5c905b7d-b452-459f-bfa9-e743e3321688"
      },
      "execution_count": null,
      "outputs": [
        {
          "output_type": "stream",
          "name": "stdout",
          "text": [
            "Coherence Metrics :\n",
            "UMass_Coherence : -2.053830083072772\n",
            "C_V_Coherence : 0.5475953170885669\n",
            "UCI_Coherence : 0.09543590206576266\n",
            "NPMI_Coherence : 0.05326432178262006\n",
            "Word_Embedding_based_Coherence_Pairwise : 0.04038473970360226\n",
            "Word_Embedding_based_Coherence_Centroid : 0.7592717415915142\n"
          ]
        }
      ]
    },
    {
      "cell_type": "code",
      "source": [
        "print(\"Diversity Metrics :\")\n",
        "\n",
        "Topic_Diversity = TopicDiversity(topk=10)\n",
        "topic_diversity_score = Topic_Diversity.score(output)\n",
        "print(\"Topic_Diversity: \"+str(topic_diversity_score))\n",
        "del Topic_Diversity\n",
        "\n",
        "InvertedRBO = InvertedRBO(topk=10)\n",
        "topic_diversity_score = InvertedRBO.score(output)\n",
        "print(\"InvertedRBO: \"+str(topic_diversity_score))\n",
        "del InvertedRBO\n",
        "\n",
        "Word_Embedding_based_InvertedRBO_Matches = WordEmbeddingsInvertedRBO(topk=10)\n",
        "topic_diversity_score = Word_Embedding_based_InvertedRBO_Matches.score(output)\n",
        "print(\"Word_Embedding_based_InvertedRBO_Matches: \"+str(topic_diversity_score))\n",
        "del Word_Embedding_based_InvertedRBO_Matches\n",
        "\n",
        "Word_Embedding_based_InvertedRBO_Centroid = WordEmbeddingsInvertedRBOCentroid(topk=10)\n",
        "topic_diversity_score = Word_Embedding_based_InvertedRBO_Centroid.score(output)\n",
        "print(\"Word_Embedding_based_InvertedRBO_Centroid: \"+str(topic_diversity_score))\n",
        "del Word_Embedding_based_InvertedRBO_Centroid\n",
        "\n",
        "Log_odds_ratio = LogOddsRatio()\n",
        "topic_diversity_score = Log_odds_ratio.score(output)\n",
        "print(\"Log_odds_ratio: \"+str(topic_diversity_score))\n",
        "del Log_odds_ratio\n",
        "\n",
        "Kullback_Liebler_Divergence = KLDivergence()\n",
        "topic_diversity_score = Kullback_Liebler_Divergence.score(output)\n",
        "print(\"Kullback_Liebler_Divergence: \"+str(topic_diversity_score))\n",
        "del Kullback_Liebler_Divergence"
      ],
      "metadata": {
        "colab": {
          "base_uri": "https://localhost:8080/"
        },
        "id": "vvpUiVOKWnCn",
        "outputId": "b4d60a3e-ac28-4d97-b9e6-b75921a6d75f"
      },
      "execution_count": null,
      "outputs": [
        {
          "output_type": "stream",
          "name": "stdout",
          "text": [
            "Diversity Metrics :\n",
            "Topic_Diversity: 0.69\n",
            "InvertedRBO: 0.9369660122553007\n",
            "Word_Embedding_based_InvertedRBO_Matches: 0.42210528668987835\n",
            "Word_Embedding_based_InvertedRBO_Centroid: 0.8439932910467731\n",
            "Log_odds_ratio: 1.8694633969107615\n",
            "Kullback_Liebler_Divergence: 1.6907708578988125\n"
          ]
        }
      ]
    },
    {
      "cell_type": "code",
      "source": [],
      "metadata": {
        "id": "UrSzpLRgZmra"
      },
      "execution_count": null,
      "outputs": []
    }
  ]
}